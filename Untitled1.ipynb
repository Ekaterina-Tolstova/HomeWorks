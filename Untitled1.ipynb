{
  "nbformat": 4,
  "nbformat_minor": 0,
  "metadata": {
    "colab": {
      "name": "Untitled1.ipynb",
      "provenance": [],
      "collapsed_sections": [],
      "authorship_tag": "ABX9TyMHSTV7W8DiIjiQjVARaCmo",
      "include_colab_link": true
    },
    "kernelspec": {
      "name": "python3",
      "display_name": "Python 3"
    },
    "language_info": {
      "name": "python"
    }
  },
  "cells": [
    {
      "cell_type": "markdown",
      "metadata": {
        "id": "view-in-github",
        "colab_type": "text"
      },
      "source": [
        "<a href=\"https://colab.research.google.com/github/Ekaterina-Tolstova/HomeWorks/blob/main/Untitled1.ipynb\" target=\"_parent\"><img src=\"https://colab.research.google.com/assets/colab-badge.svg\" alt=\"Open In Colab\"/></a>"
      ]
    },
    {
      "cell_type": "markdown",
      "metadata": {
        "id": "xyvEJi7FuDW8"
      },
      "source": [
        "Тема “Вычисления с помощью Numpy”\n",
        "Задание 1\n"
      ]
    },
    {
      "cell_type": "code",
      "source": [
        "import numpy as np\n",
        "a = np.array([[1, 6], [2, 8], [3, 11], [3, 10], [1, 7]])\n",
        "mean_a = np.array([a.mean(axis=0)])\n",
        "print(mean_a)"
      ],
      "metadata": {
        "colab": {
          "base_uri": "https://localhost:8080/"
        },
        "id": "SRoHzxsWN9-L",
        "outputId": "12620484-ebfe-4bea-9243-939b87b1671f"
      },
      "execution_count": 5,
      "outputs": [
        {
          "output_type": "stream",
          "name": "stdout",
          "text": [
            "[[ 1  6]\n",
            " [ 2  8]\n",
            " [ 3 11]\n",
            " [ 3 10]\n",
            " [ 1  7]]\n",
            "[[2.  8.4]]\n"
          ]
        }
      ]
    },
    {
      "cell_type": "markdown",
      "source": [
        "Задание 2"
      ],
      "metadata": {
        "id": "An4MEPh6SlbL"
      }
    },
    {
      "cell_type": "code",
      "source": [
        "print(a[0:, :1])\n",
        "# print(a[0:, :1] + mean_a[0, 0])\n",
        "print(a[0:, 1:])\n",
        "# print(a[0:, 1:] + mean_a[0, 1])\n",
        "#print(a[0:, :1] + mean_a[0, 0])\n",
        "a_centered = np.concatenate(([a[0:, :1] + mean_a[0, 0], a[0:, 1:] + mean_a[0, 1]]), axis=1)\n",
        "print(a_centered)"
      ],
      "metadata": {
        "colab": {
          "base_uri": "https://localhost:8080/"
        },
        "id": "3v72cOO9Spb6",
        "outputId": "97478ceb-766a-4dbb-c8a8-381343b2f823"
      },
      "execution_count": 48,
      "outputs": [
        {
          "output_type": "stream",
          "name": "stdout",
          "text": [
            "[[1]\n",
            " [2]\n",
            " [3]\n",
            " [3]\n",
            " [1]]\n",
            "[[ 6]\n",
            " [ 8]\n",
            " [11]\n",
            " [10]\n",
            " [ 7]]\n",
            "[[ 3.  14.4]\n",
            " [ 4.  16.4]\n",
            " [ 5.  19.4]\n",
            " [ 5.  18.4]\n",
            " [ 3.  15.4]]\n"
          ]
        }
      ]
    },
    {
      "cell_type": "markdown",
      "source": [
        "Задание 3"
      ],
      "metadata": {
        "id": "tOeDKOEhaJUg"
      }
    },
    {
      "cell_type": "code",
      "source": [
        "# li1 = a_centered[0:, :1].flatten()\n",
        "# print(li1)\n",
        "# li2 = a_centered[0:, 1:].flatten()\n",
        "# print(li2)\n",
        "# a_centered_sp = li1 @ li2\n",
        "a_centered_sp = a_centered[0:, :1].flatten() @ a_centered[0:, 1:].flatten()\n",
        "print(a_centered_sp)\n",
        "cov = a_centered_sp / (len(a) - 1)\n",
        "print(cov)"
      ],
      "metadata": {
        "colab": {
          "base_uri": "https://localhost:8080/"
        },
        "id": "hxwhdOCaaLxQ",
        "outputId": "eb937e10-74e7-4571-dcba-b2c93c4ee46b"
      },
      "execution_count": 61,
      "outputs": [
        {
          "output_type": "stream",
          "name": "stdout",
          "text": [
            "343.99999999999994\n",
            "85.99999999999999\n"
          ]
        }
      ]
    },
    {
      "cell_type": "code",
      "metadata": {
        "id": "CbTsULWiuRy2"
      },
      "source": [
        "a = {[author_id]}\n",
        "\n",
        "\n",
        "\n",
        "authors со столбцами author_id и author_name, в которых соответственно содержатся данные: [1, 2, 3] и ['Тургенев', 'Чехов', 'Островский'].\n",
        "Затем создайте датафрейм book cо столбцами author_id, book_title и price, в которых соответственно содержатся данные:  \n",
        "[1, 1, 1, 2, 2, 3, 3],\n",
        "['Отцы и дети', 'Рудин', 'Дворянское гнездо', 'Толстый и тонкий', 'Дама с собачкой', 'Гроза', 'Таланты и поклонники'],\n",
        "[450, 300, 350, 500, 450, 370, 290].\n"
      ],
      "execution_count": null,
      "outputs": []
    },
    {
      "cell_type": "markdown",
      "metadata": {
        "id": "Ja1djsjQuSgU"
      },
      "source": [
        ""
      ]
    }
  ]
}